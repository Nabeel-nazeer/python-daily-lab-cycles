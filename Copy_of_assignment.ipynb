{
  "nbformat": 4,
  "nbformat_minor": 0,
  "metadata": {
    "colab": {
      "provenance": [],
      "include_colab_link": true
    },
    "kernelspec": {
      "name": "python3",
      "display_name": "Python 3"
    },
    "language_info": {
      "name": "python"
    }
  },
  "cells": [
    {
      "cell_type": "markdown",
      "metadata": {
        "id": "view-in-github",
        "colab_type": "text"
      },
      "source": [
        "<a href=\"https://colab.research.google.com/github/Nabeel-nazeer/python-daily-lab-cycles/blob/main/Copy_of_assignment.ipynb\" target=\"_parent\"><img src=\"https://colab.research.google.com/assets/colab-badge.svg\" alt=\"Open In Colab\"/></a>"
      ]
    },
    {
      "cell_type": "code",
      "execution_count": null,
      "metadata": {
        "colab": {
          "base_uri": "https://localhost:8080/"
        },
        "id": "5riu_V9TjzBg",
        "outputId": "fe781d63-9e8f-4a4c-ff42-c111544570b3"
      },
      "outputs": [
        {
          "output_type": "stream",
          "name": "stdout",
          "text": [
            "hello world\n",
            "25\n",
            "<class 'int'>\n",
            "1.456\n",
            "<class 'float'>\n"
          ]
        }
      ],
      "source": [
        "from traitlets.config.loader import JSONFileConfigLoader\n",
        "print(\"hello world\")\n",
        "\n",
        "a=25\n",
        "print(a)\n",
        "print(type(a))\n",
        "\n",
        "b=1.456\n",
        "print(b)\n",
        "print (type(b))\n"
      ]
    },
    {
      "cell_type": "code",
      "source": [
        "#area of a circle\n",
        "radius=int(input(\"enter radius\"))\n",
        "pi=3.14\n",
        "area=pi*radius**2\n",
        "print(area)"
      ],
      "metadata": {
        "id": "95PtdzmJBm5r",
        "outputId": "e8a07087-e35f-4297-e651-daa3a0c2fd29",
        "colab": {
          "base_uri": "https://localhost:8080/"
        }
      },
      "execution_count": null,
      "outputs": [
        {
          "output_type": "stream",
          "name": "stdout",
          "text": [
            "enter radius5\n",
            "78.5\n"
          ]
        }
      ]
    },
    {
      "cell_type": "code",
      "source": [
        "#display name course and address\n",
        "name=(input(\"enter your good name\"))\n",
        "college=(input(\"where are you studying in\"))\n",
        "year_of_study=int(input(\"year of study\"))\n",
        "\n",
        "print(\"name:\" ,name.capitalize(),\"\\n\",\"college:\" ,college,\"\\n\",\"year of study:\" ,year_of_study)"
      ],
      "metadata": {
        "id": "tvq9nwgiCl58",
        "outputId": "4b9819de-cb6b-4096-fa1e-b74e635ef132",
        "colab": {
          "base_uri": "https://localhost:8080/"
        }
      },
      "execution_count": null,
      "outputs": [
        {
          "output_type": "stream",
          "name": "stdout",
          "text": [
            "enter your good namenabeel\n",
            "where are you studying incusat\n",
            "year of study2022\n",
            "name: Nabeel \n",
            " college: cusat \n",
            " year of study: 2022\n"
          ]
        }
      ]
    },
    {
      "cell_type": "code",
      "source": [
        "#lower case,upper case and name\n",
        "s1=\"nabeel\"\n",
        "s2=\"nazeer\"\n",
        "s3=s1+\" \"+s2\n",
        "print(s3.upper())\n",
        "print(s3.capitalize())"
      ],
      "metadata": {
        "id": "d61umaYxIJ81",
        "outputId": "0126a89d-cf85-4e99-80f6-63d067d0302c",
        "colab": {
          "base_uri": "https://localhost:8080/"
        }
      },
      "execution_count": null,
      "outputs": [
        {
          "output_type": "stream",
          "name": "stdout",
          "text": [
            "NABEEL NAZEER\n",
            "Nabeel nazeer\n"
          ]
        }
      ]
    },
    {
      "cell_type": "code",
      "source": [
        "#find operation\n",
        "word=\"pnuemonoultramicroscopicsilicovolcanoconiosis\"\n",
        "print(word.find(\"scosis\")) \n",
        "print(word.find(\"micro\"))"
      ],
      "metadata": {
        "colab": {
          "base_uri": "https://localhost:8080/"
        },
        "id": "hlZ-EJrRKu_D",
        "outputId": "4c1feb37-a4db-4e01-b1e0-9ea04aa23b88"
      },
      "execution_count": null,
      "outputs": [
        {
          "output_type": "stream",
          "name": "stdout",
          "text": [
            "-1\n",
            "13\n"
          ]
        }
      ]
    },
    {
      "cell_type": "code",
      "source": [
        "#find whweteher a number is 3 digit\n",
        "num=int(input(\"enter the number\"))\n",
        "if num>99 and num<1000:\n",
        " print(\"the number is a 3 digit number\")\n",
        "else:\n",
        " print(\"the number is not a 3 digit number\")"
      ],
      "metadata": {
        "id": "ySPVQbwKMBhi",
        "outputId": "a9713ff4-8f5c-4dc7-8f77-3acb0878b88f",
        "colab": {
          "base_uri": "https://localhost:8080/"
        }
      },
      "execution_count": null,
      "outputs": [
        {
          "output_type": "stream",
          "name": "stdout",
          "text": [
            "enter the number345\n",
            "the number is a 3 digit number\n"
          ]
        }
      ]
    },
    {
      "cell_type": "code",
      "source": [
        "#if elif else\n",
        "response=iam a student of cusat\n",
        "if "
      ],
      "metadata": {
        "id": "KKUkPiJGQ5A3"
      },
      "execution_count": null,
      "outputs": []
    },
    {
      "cell_type": "code",
      "source": [
        "#split\n",
        "print(\"how are you\".split())"
      ],
      "metadata": {
        "id": "JFewOhd8KBuq",
        "outputId": "3be74b58-c7e1-4fb0-e752-fb9cbec5dac7",
        "colab": {
          "base_uri": "https://localhost:8080/"
        }
      },
      "execution_count": null,
      "outputs": [
        {
          "output_type": "stream",
          "name": "stdout",
          "text": [
            "['how', 'are', 'you']\n"
          ]
        }
      ]
    },
    {
      "cell_type": "code",
      "source": [
        "s=\"hello\"\n",
        "print(s)\n",
        "print(type(s))\n",
        "d=True\n",
        "print(d)\n",
        "print(type(d))\n",
        "f=4+3j\n",
        "print(f)\n",
        "print(type(f))\n"
      ],
      "metadata": {
        "colab": {
          "base_uri": "https://localhost:8080/"
        },
        "id": "042k4mSlmd2K",
        "outputId": "a2321eb8-0a6a-4a7a-e603-fb3d368f5cc9"
      },
      "execution_count": null,
      "outputs": [
        {
          "output_type": "stream",
          "name": "stdout",
          "text": [
            "hello\n",
            "<class 'str'>\n",
            "True\n",
            "<class 'bool'>\n",
            "(4+3j)\n",
            "<class 'complex'>\n"
          ]
        }
      ]
    },
    {
      "cell_type": "code",
      "source": [
        "a=25\n",
        "b=4\n",
        "ab_sum=a+b\n",
        "print(ab_sum)\n",
        "\n",
        "ab_dif=a-b\n",
        "print(ab_dif)\n",
        "\n",
        "ab_pro=a*b\n",
        "print(ab_pro)\n",
        "\n",
        "ab_div=a/b\n",
        "print(ab_div)\n",
        "\n",
        "ab_pow=a**b\n",
        "print(ab_pow)\n",
        "\n",
        "ab_flr=a//b\n",
        "print(ab_flr)\n",
        "\n",
        "ab_rem=a%b\n",
        "print(ab_rem)\n"
      ],
      "metadata": {
        "colab": {
          "base_uri": "https://localhost:8080/"
        },
        "id": "KfgSUbq8md9p",
        "outputId": "5781ce49-b01d-406c-a1c8-00be03130999"
      },
      "execution_count": null,
      "outputs": [
        {
          "output_type": "stream",
          "name": "stdout",
          "text": [
            "29\n",
            "21\n",
            "100\n",
            "6.25\n",
            "390625\n",
            "6\n",
            "1\n"
          ]
        }
      ]
    },
    {
      "cell_type": "code",
      "source": [
        "a=10\n",
        "b=20\n",
        "c=15\n",
        "avg=(a+b+c)/3\n",
        "print(avg)"
      ],
      "metadata": {
        "colab": {
          "base_uri": "https://localhost:8080/"
        },
        "id": "E34gn87omUQa",
        "outputId": "c86497d5-301f-4e04-be58-de70842c4aea"
      },
      "execution_count": null,
      "outputs": [
        {
          "output_type": "stream",
          "name": "stdout",
          "text": [
            "15.0\n"
          ]
        }
      ]
    },
    {
      "cell_type": "code",
      "source": [
        "a=int(input(\"enter a number\"))\n",
        "b=int(input(\"enter a number\"))\n",
        "c=int(input(\"enter a number\"))\n",
        "avg=(a+b+c)/3\n",
        "print(\"average is\" ,avg)"
      ],
      "metadata": {
        "colab": {
          "base_uri": "https://localhost:8080/"
        },
        "id": "2726xCqalndr",
        "outputId": "04092c67-c926-46d0-c43f-6169fbbab34b"
      },
      "execution_count": null,
      "outputs": [
        {
          "output_type": "stream",
          "name": "stdout",
          "text": [
            "enter a number9\n",
            "enter a number8\n",
            "enter a number7\n",
            "average is 8.0\n"
          ]
        }
      ]
    },
    {
      "cell_type": "code",
      "source": [
        "# perimeter of a triangle\n",
        "side_1=int(input(\"enter side_1\"))\n",
        "side_2=int(input(\"enter side_2\"))\n",
        "side_3=int(input(\"enter side_3\"))\n",
        "per=side_1+side_2+side_3\n",
        "print(\"the perimeter is\" ,per)\n"
      ],
      "metadata": {
        "colab": {
          "base_uri": "https://localhost:8080/"
        },
        "id": "wbeUV3uAtFan",
        "outputId": "ace31a14-c6ba-42f2-b94d-5a1f59b4fb0c"
      },
      "execution_count": null,
      "outputs": [
        {
          "output_type": "stream",
          "name": "stdout",
          "text": [
            "enter side_18\n",
            "enter side_28\n",
            "enter side_38\n",
            "the perimeter is 24\n"
          ]
        }
      ]
    },
    {
      "cell_type": "code",
      "source": [
        "# area of a triangle\n",
        "import math\n",
        "a= int (input(\"enter side 1 =\"))\n",
        "b= int (input(\"enter side 2 =\"))\n",
        "c= int (input(\"enter side 3 =\"))\n",
        "sum=a+b+c\n",
        "s=sum/2\n",
        "m= s*(s-a)*(s-b)*(s-c)\n",
        "area= math.sqrt(m)\n",
        "print(\"the area is = \" ,area)"
      ],
      "metadata": {
        "id": "PKOJvg83jipp",
        "colab": {
          "base_uri": "https://localhost:8080/"
        },
        "outputId": "2a49f64f-79ac-4e1a-f1b4-bc4fd4819daa"
      },
      "execution_count": null,
      "outputs": [
        {
          "output_type": "stream",
          "name": "stdout",
          "text": [
            "enter side 1 =20\n",
            "enter side 2 =23\n",
            "enter side 3 =24\n",
            "the area is =  212.39570970243255\n"
          ]
        }
      ]
    },
    {
      "cell_type": "code",
      "source": [
        "# time in seconds entered into hours minutes and seconds\n",
        "seconds= int (input(\"enter the time in seconds = \"))\n",
        "hours= seconds//3600\n",
        "t_1= hours*3600\n",
        "t_2= seconds- t_1\n",
        "minutes= t_2//60\n",
        "t_3= minutes*60\n",
        "seconds= t_2 - t_3\n",
        "print(\"hours= \" ,hours)\n",
        "print(\"minutes= \" ,minutes)\n",
        "print(\"seconds= \" ,seconds)\n",
        "\n"
      ],
      "metadata": {
        "colab": {
          "base_uri": "https://localhost:8080/"
        },
        "id": "KJamYGrsyI-B",
        "outputId": "11a3e494-1d4c-408d-c35a-9475cc4c9828"
      },
      "execution_count": null,
      "outputs": [
        {
          "output_type": "stream",
          "name": "stdout",
          "text": [
            "enter the time in seconds = 3665\n",
            "hours=  1\n",
            "minutes=  1\n",
            "seconds=  5\n"
          ]
        }
      ]
    },
    {
      "cell_type": "code",
      "source": [
        "\n",
        "#print all natural numbers from m to n\n",
        "m= int (input(\"enter the value for m =\"))\n",
        "i=m\n",
        "n= int (input(\"enter n= \"))\n",
        "while i<=n:\n",
        "  print(i)\n",
        "  i+=1"
      ],
      "metadata": {
        "colab": {
          "base_uri": "https://localhost:8080/"
        },
        "id": "MbzRJPeC4tpK",
        "outputId": "72c8b431-fe7b-4090-e4fa-637eb6aafed3"
      },
      "execution_count": null,
      "outputs": [
        {
          "output_type": "stream",
          "name": "stdout",
          "text": [
            "enter the value for m =1\n",
            "enter n= 10\n",
            "1\n",
            "2\n",
            "3\n",
            "4\n",
            "5\n",
            "6\n",
            "7\n",
            "8\n",
            "9\n",
            "10\n"
          ]
        }
      ]
    },
    {
      "cell_type": "code",
      "source": [
        "m= int (input(\"enter m\"))\n",
        "n= int (input(\"enter n\"))\n",
        "step= int(input(\"step= \"))\n",
        "i=m\n",
        "while i<=n:\n",
        "  print(i)\n",
        "  i=i+step"
      ],
      "metadata": {
        "colab": {
          "base_uri": "https://localhost:8080/"
        },
        "id": "nRAoGlqH55-q",
        "outputId": "e8a1b278-589c-4a9a-b9a2-19e55e13be7b"
      },
      "execution_count": null,
      "outputs": [
        {
          "output_type": "stream",
          "name": "stdout",
          "text": [
            "enter m1\n",
            "enter n10\n",
            "step= 10\n",
            "1\n"
          ]
        }
      ]
    },
    {
      "cell_type": "code",
      "source": [
        "n=31\n",
        "f=1\n",
        "while f<=n:\n",
        "  if n%f==0:\n",
        "    print(f)\n",
        "  f=f+1"
      ],
      "metadata": {
        "colab": {
          "base_uri": "https://localhost:8080/"
        },
        "id": "aSaykfOo694j",
        "outputId": "30a60289-676e-450e-d72f-c1a86082dc98"
      },
      "execution_count": null,
      "outputs": [
        {
          "output_type": "stream",
          "name": "stdout",
          "text": [
            "1\n",
            "31\n"
          ]
        }
      ]
    },
    {
      "cell_type": "code",
      "source": [
        "for i in range(5):\n",
        "  print(i)"
      ],
      "metadata": {
        "colab": {
          "base_uri": "https://localhost:8080/"
        },
        "id": "F02SqJ_tBZ5t",
        "outputId": "7f252428-f6d8-4d0a-a121-af5029e7d90a"
      },
      "execution_count": null,
      "outputs": [
        {
          "output_type": "stream",
          "name": "stdout",
          "text": [
            "0\n",
            "1\n",
            "2\n",
            "3\n",
            "4\n"
          ]
        }
      ]
    },
    {
      "cell_type": "code",
      "source": [
        "#check whether num1 is multiple of num2 \n",
        "num1= int(input(\"enter the larger number = \"))\n",
        "num2= int(input(\"enter the smaller number = \"))\n",
        "if num1>num2:\n",
        "  multiple= num1%num2\n",
        "  if num1%num2==0:\n",
        "    print(\"larger number is divisible by smaller one\")\n",
        "  else:\n",
        "    print(\"it is not divisible\")  "
      ],
      "metadata": {
        "colab": {
          "base_uri": "https://localhost:8080/"
        },
        "id": "rM3en0agTK45",
        "outputId": "01d1c2c9-8fe3-459a-c438-c97a3400dccc"
      },
      "execution_count": null,
      "outputs": [
        {
          "output_type": "stream",
          "name": "stdout",
          "text": [
            "enter the larger number = 20\n",
            "enter the smaller number = 5\n",
            "larger number is divisible by smaller one\n"
          ]
        }
      ]
    },
    {
      "cell_type": "code",
      "source": [
        "#check whether entered number is a two digit \n",
        "number= int(input(\"ENTER THE NUMBER : \"))\n",
        "if number>9:\n",
        "  if  number<100:\n",
        "    print(\"The number you entered is a two digit number.\")\n",
        "  else:\n",
        "    print(\"oops! The number you just entered is not a two digit number.\")\n",
        "else:\n",
        "  print(\"oops! The number you entered is a one digit number\")        "
      ],
      "metadata": {
        "id": "AT3zIkDIagkb",
        "colab": {
          "base_uri": "https://localhost:8080/"
        },
        "outputId": "4e65b10d-1b7d-43b3-d881-bd7bbc57ec26"
      },
      "execution_count": null,
      "outputs": [
        {
          "output_type": "stream",
          "name": "stdout",
          "text": [
            "ENTER THE NUMBER : 34\n",
            "The number you entered is a two digit number.\n"
          ]
        }
      ]
    },
    {
      "cell_type": "code",
      "source": [
        "#check whether entered number is positive,negative or zero\n",
        "number= int (input(\"ENTER THE NUMBER = \"))\n",
        "if number==0:\n",
        "  print(\"The number you entered is zero\")\n",
        "else:\n",
        "  if number<0:\n",
        "    print(\"The entered number is negative\")\n",
        "  else:\n",
        "    print(\"The entered number is positive\")    "
      ],
      "metadata": {
        "colab": {
          "base_uri": "https://localhost:8080/"
        },
        "id": "rf7uKtzjeLl4",
        "outputId": "c266bd75-d110-411a-a0f7-4132d0c9b102"
      },
      "execution_count": null,
      "outputs": [
        {
          "output_type": "stream",
          "name": "stdout",
          "text": [
            "ENTER THE NUMBER = -7\n",
            "The entered number is negative\n"
          ]
        }
      ]
    },
    {
      "cell_type": "code",
      "source": [
        "#to check for prime number\n",
        "a=int(input(\"Enter number: \"))\n",
        "k=0\n",
        "for i in range(2,a//2+1):\n",
        "    if(a%i==0):\n",
        "        k=k+1\n",
        "if(k<=0):\n",
        "    print(\"Number is prime\")\n",
        "else:\n",
        "    print(\"Number isn't prime\")\n",
        "\n",
        "\n",
        "\n"
      ],
      "metadata": {
        "id": "Sg81nr2Mff1Z",
        "colab": {
          "base_uri": "https://localhost:8080/"
        },
        "outputId": "d8f74fe0-03be-4eed-cd30-bdb8ef06f0da"
      },
      "execution_count": null,
      "outputs": [
        {
          "output_type": "stream",
          "name": "stdout",
          "text": [
            "Enter number: 2\n",
            "Number is prime\n"
          ]
        }
      ]
    },
    {
      "cell_type": "code",
      "source": [
        "#factorial\n",
        "n= int (input(\"enter the number\"))\n",
        "factorial=1\n",
        "if n==0:\n",
        "  print(\"Factorial= 1\")\n",
        "else:\n",
        "  for i in range(1, n+1):\n",
        "    factorial=factorial*i\n",
        "  print(\"factorial = \", factorial)\n"
      ],
      "metadata": {
        "colab": {
          "base_uri": "https://localhost:8080/"
        },
        "id": "_PGa4L96GKJB",
        "outputId": "f20d43c3-9c01-4d4f-8a5c-3bf46b708100"
      },
      "execution_count": null,
      "outputs": [
        {
          "output_type": "stream",
          "name": "stdout",
          "text": [
            "enter the number4\n",
            "factorial =  24\n"
          ]
        }
      ]
    },
    {
      "cell_type": "code",
      "source": [
        "#greatest of two number\n",
        "n= int (input(\"enter num1\"))\n",
        "m= int (input(\"enter num2\"))\n",
        "if n<m:\n",
        "  print(\"the greatest number is\", m)\n",
        "else:\n",
        "  print(\"the greatest number is\", n)"
      ],
      "metadata": {
        "colab": {
          "base_uri": "https://localhost:8080/"
        },
        "id": "5RVO6Q6JH9Oo",
        "outputId": "a248ac89-f174-4057-dc52-0e2c69a8b9ec"
      },
      "execution_count": null,
      "outputs": [
        {
          "output_type": "stream",
          "name": "stdout",
          "text": [
            "enter num13\n",
            "enter num24\n",
            "the greatest number is 4\n"
          ]
        }
      ]
    },
    {
      "cell_type": "code",
      "source": [
        "#interchange variable value\n",
        "x= int (input(\"enter the value\"))\n",
        "rev=0\n",
        "while x!=0:\n",
        "  rem=x%10\n",
        "  rev= rev*10+ rem \n",
        "  x= x//10\n",
        "print(\"the reverse is = \", rev)"
      ],
      "metadata": {
        "colab": {
          "base_uri": "https://localhost:8080/"
        },
        "id": "SceIIzt4ImIQ",
        "outputId": "7fe77b9a-d825-4afb-8bc8-85dc58808fd4"
      },
      "execution_count": null,
      "outputs": [
        {
          "output_type": "stream",
          "name": "stdout",
          "text": [
            "enter the value624\n",
            "the reverse is =  426\n"
          ]
        }
      ]
    },
    {
      "cell_type": "code",
      "source": [
        "#n no. of odd numbers\n",
        "n= int (input(\"enter the number odd numbers\"))\n",
        "c=0\n",
        "for i in range(1, n+1):\n",
        "  if i%2!=0:\n",
        "    print (i)\n",
        "\n"
      ],
      "metadata": {
        "colab": {
          "base_uri": "https://localhost:8080/"
        },
        "id": "RcAbFT5ZMUxu",
        "outputId": "215f92c2-03e1-40cf-bca6-15a6280f34d3"
      },
      "execution_count": null,
      "outputs": [
        {
          "output_type": "stream",
          "name": "stdout",
          "text": [
            "enter the number odd numbers6\n",
            "1\n",
            "3\n",
            "5\n"
          ]
        }
      ]
    },
    {
      "cell_type": "code",
      "source": [
        "#n terms of an AP\n",
        "n= int (input(\"enter the number of terms\"))\n",
        "c= int (input(\"enter the common difference\"))\n",
        "a= int (input(\"enter the value of a\"))\n",
        "for i in range(a, n+1, c):\n",
        "  print(i)\n"
      ],
      "metadata": {
        "colab": {
          "base_uri": "https://localhost:8080/"
        },
        "id": "KxhYnc79O6XP",
        "outputId": "977f7549-4d2f-4dba-bb1c-54a4402e4e34"
      },
      "execution_count": null,
      "outputs": [
        {
          "output_type": "stream",
          "name": "stdout",
          "text": [
            "enter the number of terms6\n",
            "enter the common difference2\n",
            "enter the value of a1\n",
            "1\n",
            "3\n",
            "5\n"
          ]
        }
      ]
    },
    {
      "cell_type": "code",
      "source": [
        "#to check the nature of roots\n",
        "print(\"Equation: ax^2 + bx + c \")\n",
        "a=int(input(\"Enter a: \"))\n",
        "b=int(input(\"Enter b: \"))\n",
        "c=int(input(\"Enter c: \"))\n",
        "d=b**2-4*a*c\n",
        "d1=d**0.5\n",
        "if(d<0):\n",
        "    print(\"The roots are imaginary. \")\n",
        "else:\n",
        "    r1=(-b+d1)/2*a\n",
        "    r2=(-b-d1)/2*a\n",
        "    print(\"The first root: \",round(r1,2))\n",
        "    print(\"The second root: \",round(r2,2))"
      ],
      "metadata": {
        "colab": {
          "base_uri": "https://localhost:8080/"
        },
        "id": "ToVE-0BISceV",
        "outputId": "080b3de0-dedd-4c71-f77a-a1c184577007"
      },
      "execution_count": null,
      "outputs": [
        {
          "output_type": "stream",
          "name": "stdout",
          "text": [
            "Equation: ax^2 + bx + c \n",
            "Enter a: 6\n",
            "Enter b: 3\n",
            "Enter c: 9\n",
            "The roots are imaginary. \n"
          ]
        }
      ]
    },
    {
      "cell_type": "code",
      "source": [
        "#smallest digit in a two digit\n",
        "n= int (input(\"enter the number\"))\n",
        "num1= n%10\n",
        "num2= n//110\n",
        "if num1>num2:\n",
        "  print(\"the greater number is = \", num1)\n",
        "else:\n",
        "  print(\"the greater number is = \", num2)\n"
      ],
      "metadata": {
        "colab": {
          "base_uri": "https://localhost:8080/"
        },
        "id": "Rg6F_dQvTfe0",
        "outputId": "deb3ad28-fdad-4ff8-c4b7-65893bf755e1"
      },
      "execution_count": null,
      "outputs": [
        {
          "output_type": "stream",
          "name": "stdout",
          "text": [
            "enter the number24\n",
            "the greater number is =  4\n"
          ]
        }
      ]
    },
    {
      "cell_type": "code",
      "source": [
        "#smallest of three numbers\n",
        "a= int (input(\"enter number 1 = \"))\n",
        "b= int (input(\"enter number 2 = \"))\n",
        "c= int (input(\"enter number 3 = \"))\n",
        "if a>b and a>c:\n",
        "  print(\"number 1 is the greatest\")\n",
        "else:\n",
        "  if b>c:\n",
        "    print(\"number 2 is greatest\")\n",
        "  else:\n",
        "    print(\"number 3 is greatest\")"
      ],
      "metadata": {
        "colab": {
          "base_uri": "https://localhost:8080/"
        },
        "id": "vq8arljwXk8r",
        "outputId": "7a641bfb-cc43-4319-c213-6d90fdd05382"
      },
      "execution_count": null,
      "outputs": [
        {
          "output_type": "stream",
          "name": "stdout",
          "text": [
            "enter number 1 = 70\n",
            "enter number 2 = 2\n",
            "enter number 3 = 3\n",
            "number 1 is the greatest\n"
          ]
        }
      ]
    },
    {
      "cell_type": "code",
      "source": [
        "#sum of factors of a number\n",
        "n= int (input(\"enter the number = \"))\n",
        "sum=0\n",
        "for i in range(1, n+1):\n",
        "  if n%i==0:\n",
        "    sum=sum+i\n",
        "print(\"the total sum of factors is = \", sum)    \n"
      ],
      "metadata": {
        "colab": {
          "base_uri": "https://localhost:8080/"
        },
        "id": "3u__Z2eeZCyy",
        "outputId": "b7738311-d854-45fe-c50b-f2a2cdfe5291"
      },
      "execution_count": null,
      "outputs": [
        {
          "output_type": "stream",
          "name": "stdout",
          "text": [
            "enter the number = 12\n",
            "the total sum of factors is =  28\n"
          ]
        }
      ]
    },
    {
      "cell_type": "code",
      "source": [
        "#sum of n natural numbers\n",
        "n = int (input(\"enter the number = \"))\n",
        "sum=0\n",
        "for num in range(1,n+1):\n",
        "  sum=sum+num\n",
        "print(\"sum of n natural numbers is = \", sum)  "
      ],
      "metadata": {
        "colab": {
          "base_uri": "https://localhost:8080/"
        },
        "id": "NjCMch9WaVBZ",
        "outputId": "ba9f8e86-2ed3-46bc-fca3-ff6196afb1f4"
      },
      "execution_count": null,
      "outputs": [
        {
          "output_type": "stream",
          "name": "stdout",
          "text": [
            "enter the number = 3\n",
            "sum of n natural numbers is =  6\n"
          ]
        }
      ]
    },
    {
      "cell_type": "code",
      "source": [
        "#convert number of days into  years  months and days\n",
        "d = int (input(\"enter no. of days = \"))\n",
        "years= d//365\n",
        "y1= years*365\n",
        "y2= d-y1\n",
        "months= y2//12\n",
        "y3= months*30\n",
        "days=y2-y3\n",
        "print(years,\":\",months ,\":\",days)\n"
      ],
      "metadata": {
        "colab": {
          "base_uri": "https://localhost:8080/"
        },
        "id": "iT0-WijWbsda",
        "outputId": "b9afe68a-5a52-414d-b026-22f7f85c804b"
      },
      "execution_count": null,
      "outputs": [
        {
          "output_type": "stream",
          "name": "stdout",
          "text": [
            "enter no. of days = 366\n",
            "1 : 0 : 1\n"
          ]
        }
      ]
    },
    {
      "cell_type": "code",
      "source": [
        "#n elements of a fibonacci series\n",
        "def fibonacii(n):\n",
        "  if n<=0:\n",
        "    print(\"error! invalid input\")\n",
        "  elif n==1:\n",
        "    return 0\n",
        "  elif n==2:\n",
        "    return 1\n",
        "  else:\n",
        "    return fibonacii(n-1)+fibonacii(n-2)\n",
        "n= int (input(\"enter the number of elements = \"))\n",
        "print(fibonacii(n))      \n",
        "\n"
      ],
      "metadata": {
        "colab": {
          "base_uri": "https://localhost:8080/"
        },
        "id": "b7AIk4NghOjX",
        "outputId": "11e74122-f2b5-41c8-dcda-aaa4c271e9df"
      },
      "execution_count": null,
      "outputs": [
        {
          "output_type": "stream",
          "name": "stdout",
          "text": [
            "enter the number of elements = 10\n",
            "34\n"
          ]
        }
      ]
    },
    {
      "cell_type": "code",
      "source": [
        "# to check for palindrome\n",
        "n = int (input(\"enter the number to check\"))\n",
        "temp=n\n",
        "rev=0\n",
        "while n!=0:\n",
        "  rem= n%10\n",
        "  rev= rev*10+rem\n",
        "  n=n//10\n",
        "if(rev==temp):\n",
        "  print(\"it is palindrome number\")\n",
        "else:\n",
        "  print(\"it is not a plaindrome\")"
      ],
      "metadata": {
        "colab": {
          "base_uri": "https://localhost:8080/"
        },
        "id": "cThzV5s3jhYF",
        "outputId": "a1db6ae2-8e9f-4ea3-8340-8f7745966404"
      },
      "execution_count": null,
      "outputs": [
        {
          "output_type": "stream",
          "name": "stdout",
          "text": [
            "enter the number to check12121\n",
            "it is palindrome number\n"
          ]
        }
      ]
    },
    {
      "cell_type": "code",
      "source": [
        "# Python program to check if the number is an Armstrong number or not(3 digit)\n",
        "num = int(input(\"Enter a number: \"))\n",
        "sum = 0\n",
        "temp = num\n",
        "while temp > 0:\n",
        "   digit = temp % 10\n",
        "   sum += digit ** 3\n",
        "   temp //= 10\n",
        "if num==sum:\n",
        "  print(num,\"is an Armstrong number\")\n",
        "else:\n",
        "  print(num,\"is not an Armstrong number\")"
      ],
      "metadata": {
        "colab": {
          "base_uri": "https://localhost:8080/"
        },
        "id": "1Xue8hglpd8M",
        "outputId": "f2587a1b-2f15-4ec3-95d6-01566aa45fd1"
      },
      "execution_count": null,
      "outputs": [
        {
          "output_type": "stream",
          "name": "stdout",
          "text": [
            "Enter a number: 153\n",
            "153 is an Armstrong number\n"
          ]
        }
      ]
    },
    {
      "cell_type": "code",
      "source": [
        "#x^n using loop\n",
        "num= int (input(\"enter the number to find the power of = \"))\n",
        "pw= int (input(\"enter the power\"))\n",
        "k=1\n",
        "for n in range(pw):\n",
        "  k=k*num\n",
        "print(\"the value is = \", k)\n"
      ],
      "metadata": {
        "colab": {
          "base_uri": "https://localhost:8080/"
        },
        "id": "tZWgyrqhsbcL",
        "outputId": "57c70249-75cd-450f-faa1-4c91fda682ce"
      },
      "execution_count": null,
      "outputs": [
        {
          "output_type": "stream",
          "name": "stdout",
          "text": [
            "enter the number to find the power of = 3\n",
            "enter the power3\n",
            "the value is =  27\n"
          ]
        }
      ]
    },
    {
      "cell_type": "code",
      "source": [
        "#gcd of two numbers\n",
        "a = int(input(\"input number 1 = \"))\n",
        "b= int(input(\"input number 2 = \"))\n",
        "if b>a:\n",
        "  for i in range(1, b//2+1):\n",
        "    if a%i==0 and b%i==0:\n",
        "      gcd =i\n",
        "else:\n",
        "  for i in range(1, a//2+1):\n",
        "    if a%i==0 and b%i==0:\n",
        "      gcd=i\n",
        "print(\"the gcd of the two numbers is\", gcd)\n",
        "\n"
      ],
      "metadata": {
        "id": "G6WPav_guzoq",
        "colab": {
          "base_uri": "https://localhost:8080/"
        },
        "outputId": "398c83d7-30c5-4422-d119-a4c01c4eb571"
      },
      "execution_count": 6,
      "outputs": [
        {
          "output_type": "stream",
          "name": "stdout",
          "text": [
            "input number 1 = 24\n",
            "input number 2 = 12\n",
            "the gcd of the two numbers is 12\n"
          ]
        }
      ]
    },
    {
      "cell_type": "code",
      "source": [
        "#check for automorphic number\n"
      ],
      "metadata": {
        "id": "s1rmXfHFbj7V"
      },
      "execution_count": null,
      "outputs": []
    },
    {
      "cell_type": "markdown",
      "source": [],
      "metadata": {
        "id": "W7zLZ6f-8syy"
      }
    }
  ]
}